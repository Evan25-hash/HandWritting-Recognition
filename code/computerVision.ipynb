{
 "cells": [
  {
   "cell_type": "code",
   "execution_count": 1,
   "metadata": {},
   "outputs": [],
   "source": [
    "import tensorflow as tf\n",
    "import matplotlib.pyplot as plt\n",
    "import numpy as np\n",
    "import pandas as pd\n",
    "import cv2\n",
    "from sklearn.model_selection import KFold\n",
    "from keras.models import Sequential\n",
    "from keras.layers import Conv2D,MaxPooling2D,Flatten,Dense,Dropout,BatchNormalization\n",
    "from tensorflow.keras.optimizers import Adadelta,SGD\n",
    "from tensorflow.keras.models import load_model"
   ]
  },
  {
   "cell_type": "code",
   "execution_count": 2,
   "metadata": {},
   "outputs": [],
   "source": [
    "df=pd.read_csv(\"../archive/A_Z Handwritten Data.csv\")"
   ]
  },
  {
   "cell_type": "code",
   "execution_count": null,
   "metadata": {},
   "outputs": [],
   "source": [
    "df.shape"
   ]
  },
  {
   "cell_type": "code",
   "execution_count": null,
   "metadata": {},
   "outputs": [],
   "source": [
    "data_array = np.array(df,dtype=np.uint8)\n",
    "data_array.shape"
   ]
  },
  {
   "cell_type": "code",
   "execution_count": 5,
   "metadata": {},
   "outputs": [],
   "source": [
    "alphabets = list('ABCDEFGHIJKLMNOPQRSTUVWXYZ')"
   ]
  },
  {
   "cell_type": "code",
   "execution_count": null,
   "metadata": {},
   "outputs": [],
   "source": [
    "labels = data_array[:,0]\n",
    "#print(len(labels))\n",
    "x = data_array[:,1:].reshape(372450,28,28)/255.\n",
    "print((data_array[:,1:]).shape)\n",
    "#del data_array\n",
    "unique, counts = np.unique(labels, return_counts=True)\n",
    "alphabets_list = list(zip(alphabets, counts))\n",
    "for i in alphabets_list:\n",
    "    print(i[0],' : ',i[1])"
   ]
  },
  {
   "cell_type": "code",
   "execution_count": null,
   "metadata": {},
   "outputs": [],
   "source": [
    "fig=plt.figure(figsize=(15,6))\n",
    "plt.xlabel('Alphabets',fontsize=14)\n",
    "plt.ylabel('Count of datapoints for each alphabet',fontsize=14)\n",
    "plt.bar(alphabets,counts)\n",
    "plt.show()"
   ]
  },
  {
   "cell_type": "code",
   "execution_count": null,
   "metadata": {},
   "outputs": [],
   "source": [
    "a=np.random.randint(low=0,high=372449,size=400)\n",
    "fig=plt.figure(figsize=(30,30))\n",
    "c=1\n",
    "for i in a:\n",
    "    fig.add_subplot(20,20,c)\n",
    "    plt.xticks([]);    plt.yticks([]);    plt.imshow(x[i],cmap='gray')\n",
    "    c+=1\n",
    "del a"
   ]
  },
  {
   "cell_type": "code",
   "execution_count": 9,
   "metadata": {},
   "outputs": [],
   "source": [
    "del c, alphabets_list, counts, unique #deleting further not required variables due to memory issues "
   ]
  },
  {
   "cell_type": "code",
   "execution_count": null,
   "metadata": {},
   "outputs": [],
   "source": [
    "kf = KFold(n_splits=100)  # 100 splits untuk mendapatkan 1% data untuk test\n",
    "\n",
    "for train_index, test_index in kf.split(x):\n",
    "    x_train, x_test = x[train_index], x[test_index]\n",
    "    y_train, y_test = labels[train_index], labels[test_index]\n",
    "    break  # Hentikan setelah satu iterasi\n",
    "\n",
    "print(x_train.shape, x_test.shape, y_train.shape, y_test.shape)"
   ]
  },
  {
   "cell_type": "code",
   "execution_count": null,
   "metadata": {},
   "outputs": [],
   "source": [
    "nn_model = Sequential([\n",
    "    Conv2D(128, (3, 3), activation='relu', kernel_initializer='he_uniform', input_shape=(28, 28, 1), padding='same'),\n",
    "    Conv2D(64, (3, 3), activation='relu', kernel_initializer='he_uniform', padding='same'),\n",
    "    MaxPooling2D(2, 2),\n",
    "    Conv2D(64, (3, 3), activation='relu', kernel_initializer='he_uniform', padding='same'),\n",
    "    Conv2D(64, (3, 3), activation='relu', kernel_initializer='he_uniform', padding='same'),\n",
    "    BatchNormalization(),\n",
    "    MaxPooling2D(2, 2),\n",
    "    Flatten(),\n",
    "    Dense(100, activation='relu', kernel_initializer='he_uniform'),\n",
    "    Dropout(0.1),\n",
    "    Dense(64, activation='relu', kernel_initializer='he_uniform'),\n",
    "    Dropout(0.125),\n",
    "    BatchNormalization(),\n",
    "    Dense(26, activation='softmax')\n",
    "])\n",
    "\n",
    "# Ubah lr menjadi learning_rate\n",
    "nn_model.compile(loss='sparse_categorical_crossentropy', optimizer=SGD(learning_rate=0.01, momentum=0.9), metrics=['accuracy'])\n",
    "nn_model.summary()"
   ]
  },
  {
   "cell_type": "code",
   "execution_count": null,
   "metadata": {},
   "outputs": [],
   "source": [
    "nn_model_fit = nn_model.fit(x=x_train,y=y_train,validation_split=0.1,epochs=1)\n",
    "# nn_model.save('model1.h5')"
   ]
  },
  {
   "cell_type": "code",
   "execution_count": 29,
   "metadata": {},
   "outputs": [],
   "source": [
    "nn_model.save('model1.keras')"
   ]
  },
  {
   "cell_type": "code",
   "execution_count": 30,
   "metadata": {},
   "outputs": [],
   "source": [
    "nn_model = load_model('model1.keras')"
   ]
  },
  {
   "cell_type": "code",
   "execution_count": 32,
   "metadata": {},
   "outputs": [],
   "source": [
    "def test_images(n=225):\n",
    "    index=np.random.randint(low=0,high=3720,size=n)\n",
    "    fig=plt.figure(figsize=(30,40))\n",
    "    for i in range(n):\n",
    "        [pred]=nn_model.predict(x_test[index[i]].reshape(1,28,28,1))\n",
    "        pred=np.argmax(pred)\n",
    "        actual=y_test[index[i]]\n",
    "        fig.add_subplot(15,15,i+1)\n",
    "        plt.xticks([])\n",
    "        plt.yticks([])\n",
    "        if actual==pred:\n",
    "            plt.title(alphabets[pred],color='green',fontsize=25,fontweight=\"bold\")\n",
    "        else:\n",
    "            plt.title(alphabets[pred],color='red',fontsize=25,fontweight=\"bold\")\n",
    "        plt.imshow(x_test[index[i]].reshape(28,28),cmap='gray')"
   ]
  },
  {
   "cell_type": "code",
   "execution_count": null,
   "metadata": {},
   "outputs": [],
   "source": [
    "test_images()"
   ]
  },
  {
   "cell_type": "code",
   "execution_count": 34,
   "metadata": {},
   "outputs": [],
   "source": [
    "alpha = list('ABCDEFGHIJKLMNOPQRSTUVWXYZ')"
   ]
  },
  {
   "cell_type": "code",
   "execution_count": 35,
   "metadata": {},
   "outputs": [],
   "source": [
    "def unseendata_test(filepath):\n",
    "    image = cv2.imread(filepath)\n",
    "    blur_image=cv2.medianBlur(image,7)\n",
    "\n",
    "    grey = cv2.cvtColor(blur_image, cv2.COLOR_BGR2GRAY)\n",
    "\n",
    "    thresh = cv2.adaptiveThreshold(grey,200,cv2.ADAPTIVE_THRESH_MEAN_C, cv2.THRESH_BINARY_INV,41,25)\n",
    "\n",
    "    contours,hierarchy= cv2.findContours(thresh, cv2.RETR_EXTERNAL, cv2.CHAIN_APPROX_SIMPLE)\n",
    "\n",
    "    preprocessed_digits = []\n",
    "\n",
    "    \n",
    "    boundingBoxes = [cv2.boundingRect(c) for c in contours]\n",
    "    (contours, boundingBoxes) = zip(*sorted(zip(contours, boundingBoxes),key=lambda b:b[1][0], reverse=False))\n",
    "\n",
    "\n",
    "    for c in contours:\n",
    "        x,y,w,h = cv2.boundingRect(c)\n",
    "        \n",
    "        cv2.rectangle(blur_image, (x,y), (x+w, y+h), color=(255, 0, 0), thickness=2)\n",
    "        \n",
    "        digit = thresh[y:y+h, x:x+w]\n",
    "         \n",
    "        resized_digit = cv2.resize(digit, (18,18))\n",
    "        \n",
    "        padded_digit = np.pad(resized_digit, ((5,5),(5,5)), \"constant\", constant_values=0)\n",
    "        \n",
    "        preprocessed_digits.append(padded_digit)\n",
    "    plt.xticks([])\n",
    "    plt.yticks([])\n",
    "    plt.title(\"Input Image\",color='red')\n",
    "    plt.imshow(image, cmap=\"gray\")\n",
    "    plt.show()\n",
    "\n",
    "    inp = np.array(preprocessed_digits)\n",
    "    figr=plt.figure(figsize=(len(inp),4))\n",
    "    i=1\n",
    "    alphabets_unseen=[]\n",
    "    for digit in preprocessed_digits:\n",
    "        [prediction] = nn_model.predict(digit.reshape(1, 28, 28, 1)/255.)\n",
    "        pred=alpha[np.argmax(prediction)]\n",
    "        alphabets_unseen.append(pred)\n",
    "        figr.add_subplot(1,len(inp),i)\n",
    "        i+=1\n",
    "        plt.xticks([])\n",
    "        plt.yticks([])\n",
    "        plt.imshow(digit.reshape(28, 28), cmap=\"gray\")\n",
    "        plt.title(pred,color='green',fontsize=18,fontweight=\"bold\")\n",
    "    print(\"Alphabets detected : \" ,*alphabets_unseen)"
   ]
  },
  {
   "cell_type": "code",
   "execution_count": null,
   "metadata": {},
   "outputs": [],
   "source": [
    "unseendata_test('../images/.png')"
   ]
  }
 ],
 "metadata": {
  "kernelspec": {
   "display_name": "myenv",
   "language": "python",
   "name": "python3"
  },
  "language_info": {
   "codemirror_mode": {
    "name": "ipython",
    "version": 3
   },
   "file_extension": ".py",
   "mimetype": "text/x-python",
   "name": "python",
   "nbconvert_exporter": "python",
   "pygments_lexer": "ipython3",
   "version": "3.12.5"
  }
 },
 "nbformat": 4,
 "nbformat_minor": 2
}
