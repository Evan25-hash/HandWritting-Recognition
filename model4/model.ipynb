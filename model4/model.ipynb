import cv2
import numpy as np
import easyocr

# Load the EasyOCR reader
reader = easyocr.Reader(['en'], gpu=False)  # Load once only in memory.

# Read the image
image = cv2.imread('hans.JPG')

# Convert the image to grayscale
gray = cv2.cvtColor(image, cv2.COLOR_BGR2GRAY)

# Sharpen the edges of the image
sharpen_kernel = np.array([[-1, -1, -1], [-1, 9, -1], [-1, -1, -1]])
sharpen = cv2.filter2D(gray, -1, sharpen_kernel)

# Apply thresholding to get a binary image
thresh = cv2.threshold(sharpen, 0, 255, cv2.THRESH_BINARY_INV + cv2.THRESH_OTSU)[1]

# Optionally, you can apply morphological operations to improve text recognition
kernel = np.ones((3, 3), np.uint8)
morph = cv2.morphologyEx(thresh, cv2.MORPH_CLOSE, kernel)

# Use EasyOCR to read the text from the processed image
r_easy_ocr = reader.readtext(morph, detail=0)

# Print the recognized text
for text in r_easy_ocr:
    print(text)
